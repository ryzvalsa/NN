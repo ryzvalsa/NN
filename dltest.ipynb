{
 "cells": [
  {
   "cell_type": "code",
   "execution_count": 3,
   "metadata": {},
   "outputs": [],
   "source": [
    "import numpy as np\n",
    "\n",
    "def sig(x):\n",
    "    return 1/(1+np.exp(-x))"
   ]
  },
  {
   "cell_type": "code",
   "execution_count": 5,
   "metadata": {},
   "outputs": [
    {
     "data": {
      "text/plain": [
       "array([[0.82450938, 0.08465807, 0.80099215, 0.21614012],\n",
       "       [0.99284676, 0.03735411, 0.35760512, 0.02075054],\n",
       "       [0.99663185, 0.1178533 , 0.12861303, 0.17803655],\n",
       "       [0.96480821, 0.03690116, 0.65184869, 0.0294925 ],\n",
       "       [0.90471034, 0.12306245, 0.64835137, 0.35180377],\n",
       "       [0.96341989, 0.32634659, 0.28639086, 0.83971244],\n",
       "       [0.93166981, 0.1085557 , 0.60602682, 0.27196849],\n",
       "       [0.08268909, 0.32790994, 0.96446444, 0.95357376],\n",
       "       [0.9878031 , 0.26437492, 0.17323635, 0.68646838],\n",
       "       [0.89527601, 0.26679251, 0.525019  , 0.79317607]])"
      ]
     },
     "execution_count": 5,
     "metadata": {},
     "output_type": "execute_result"
    }
   ],
   "source": [
    "w1=np.random.randn(2,4)\n",
    "b1=np.random.randn(4)\n",
    "x=np.random.randn(10,2)\n",
    "w2=np.random.randn(4,3)\n",
    "b2=np.random.randn(3)\n",
    "h=np.dot(x,w1)+b1\n",
    "a=sig(h)\n",
    "s=np.dot(a,w2)+b2\n",
    "a"
   ]
  },
  {
   "cell_type": "code",
   "execution_count": null,
   "metadata": {},
   "outputs": [],
   "source": []
  }
 ],
 "metadata": {
  "kernelspec": {
   "display_name": "Python 3",
   "language": "python",
   "name": "python3"
  },
  "language_info": {
   "codemirror_mode": {
    "name": "ipython",
    "version": 3
   },
   "file_extension": ".py",
   "mimetype": "text/x-python",
   "name": "python",
   "nbconvert_exporter": "python",
   "pygments_lexer": "ipython3",
   "version": "3.6.5"
  }
 },
 "nbformat": 4,
 "nbformat_minor": 2
}
