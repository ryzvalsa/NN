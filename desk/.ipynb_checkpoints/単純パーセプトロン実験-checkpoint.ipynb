{
 "cells": [
  {
   "cell_type": "code",
   "execution_count": 108,
   "metadata": {},
   "outputs": [],
   "source": [
    "import numpy as np\n",
    "import random\n",
    "class Affine:\n",
    "    def __init__(self,W,B):\n",
    "        self.params=[W,B]\n",
    "        self.grads=[np.zeros_like(W),np.zeros_like(B)]\n",
    "        self.x=None\n",
    "    def forward(self,x):\n",
    "        self.x=x\n",
    "        W,B=self.params\n",
    "        out=np.dot(x,W)+B\n",
    "        if out>0:\n",
    "            return 1\n",
    "        else:\n",
    "            return 0\n",
    "    def backward(self, dout):\n",
    "        W, b = self.params\n",
    "        dx = np.dot(dout, W.T)\n",
    "        dW = np.dot(self.x.T, dout)\n",
    "        db = np.sum(dout, axis=0)\n",
    "\n",
    "        self.grads[0][...] = dW\n",
    "        self.grads[1][...] = db\n",
    "        return dx\n",
    "\n",
    "class SGD:\n",
    "    def __init__(self,lr=0.01):\n",
    "        self.lr = lr\n",
    "    def update(self, params, grads):\n",
    "        for i in range(len(params)):\n",
    "            params[i] -= self.lr * grads[i]\n",
    "class StepWithLoss:\n",
    "    def __init__(self):\n",
    "        self.params,self.grads=[],[]\n",
    "        self.loss=None\n",
    "        self.y=None\n",
    "        self.t=None\n",
    "    def forward(self, x, t):\n",
    "        self.t = t\n",
    "        if x>0:\n",
    "            self.y=1\n",
    "        else:\n",
    "            self.y=0\n",
    "\n",
    "    def backward(self, dout=1):\n",
    "        dx = (self.y - self.t) * dout\n",
    "        return dx"
   ]
  },
  {
   "cell_type": "code",
   "execution_count": 78,
   "metadata": {},
   "outputs": [],
   "source": [
    "\n",
    "class SimpleNet:\n",
    "    def __init__(self):\n",
    "        W1 = 0.01 * np.random.randn(2, 1)\n",
    "        b1 = np.zeros(1)\n",
    "\n",
    "        # レイヤの生成\n",
    "        self.layers = [\n",
    "            Affine(W1, b1),\n",
    "        ]\n",
    "        self.loss_layer = StepWithLoss()\n",
    "        # すべての重みと勾配をリストにまとめる\n",
    "        self.params, self.grads = [], []\n",
    "        for layer in self.layers:\n",
    "            self.params += layer.params\n",
    "            self.grads += layer.grads\n",
    "\n",
    "    def predict(self, x):\n",
    "        for layer in self.layers:\n",
    "            x = layer.forward(x)\n",
    "        if x>0:\n",
    "            return 1\n",
    "        else:\n",
    "            return 0\n",
    "\n",
    "    def forward(self, x, t):\n",
    "        score = self.predict(x)\n",
    "        self.loss_layer.forward(score, t)\n",
    "\n",
    "    def backward(self, dout=1):\n",
    "        dout = self.loss_layer.backward(dout)\n",
    "        for layer in reversed(self.layers):\n",
    "            dout = layer.backward(dout)\n",
    "        return dout"
   ]
  },
  {
   "cell_type": "code",
   "execution_count": 134,
   "metadata": {},
   "outputs": [],
   "source": [
    "model=SimpleNet()\n",
    "opt=SGD()"
   ]
  },
  {
   "cell_type": "code",
   "execution_count": 135,
   "metadata": {},
   "outputs": [],
   "source": [
    "data=[[np.array([[0,0]]),np.array([[0]])],\n",
    "      [np.array([[0,1]]),np.array([[1]])],\n",
    "      [np.array([[1,0]]),np.array([[1]])],\n",
    "      [np.array([[1,1]]),np.array([[0]])],\n",
    "     ]\n",
    "for i in range(1000):\n",
    "    randomNum=random.randint(0,3)\n",
    "    model.forward(data[randomNum][0],data[randomNum][1])\n",
    "    model.backward()\n",
    "    opt.update(model.params,model.grads)"
   ]
  },
  {
   "cell_type": "code",
   "execution_count": 139,
   "metadata": {},
   "outputs": [
    {
     "data": {
      "text/plain": [
       "0"
      ]
     },
     "execution_count": 139,
     "metadata": {},
     "output_type": "execute_result"
    }
   ],
   "source": [
    "model.predict(np.array([1,1]))"
   ]
  },
  {
   "cell_type": "code",
   "execution_count": null,
   "metadata": {},
   "outputs": [],
   "source": []
  }
 ],
 "metadata": {
  "kernelspec": {
   "display_name": "Python 3",
   "language": "python",
   "name": "python3"
  },
  "language_info": {
   "codemirror_mode": {
    "name": "ipython",
    "version": 3
   },
   "file_extension": ".py",
   "mimetype": "text/x-python",
   "name": "python",
   "nbconvert_exporter": "python",
   "pygments_lexer": "ipython3",
   "version": "3.6.5"
  }
 },
 "nbformat": 4,
 "nbformat_minor": 2
}
