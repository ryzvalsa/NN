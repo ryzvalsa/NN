{
 "cells": [
  {
   "cell_type": "code",
   "execution_count": 1,
   "metadata": {},
   "outputs": [],
   "source": [
    "import numpy as np"
   ]
  },
  {
   "cell_type": "code",
   "execution_count": 2,
   "metadata": {},
   "outputs": [],
   "source": [
    "class Sigmoid:\n",
    "    def __init__(self):\n",
    "        self.params = []\n",
    "    def forward(self, x):\n",
    "        return 1 / (1 + np.exp(-x))\n",
    "class Affine:\n",
    "    def __init__(self, w, b):\n",
    "        self.params=[w, b]\n",
    "    def forward(self, x):\n",
    "        w, b = self.params\n",
    "        out=np.dot(x, w) + b\n",
    "        return out"
   ]
  },
  {
   "cell_type": "code",
   "execution_count": 3,
   "metadata": {},
   "outputs": [
    {
     "name": "stdout",
     "output_type": "stream",
     "text": [
      "1 2\n"
     ]
    }
   ],
   "source": [
    "class TwoLayerNet:\n",
    "    def __init__(self, inputSize, hiddenSize, outSize):\n",
    "        I, H, O=inputSize, hiddenSize, outSize\n",
    "        w1 = np.random.randn(I, H)\n",
    "        b1 = np.random.randn(H)\n",
    "        w2 = np.random.randn(H, O)\n",
    "        b2 = np.random.randn(O)\n",
    "        self.layers=[\n",
    "            Affine(w1, b1)\n",
    "            Sigmoid()\n",
    "            Affine(w2, b2)\n",
    "        ]\n",
    "        self.params=[]\n",
    "        for layer in self.layers:\n",
    "            self.params += layer.params\n",
    "    def predict(self, x):\n",
    "        for layer in self.layers:\n",
    "            x=layer.forward(x)\n",
    "        return x"
   ]
  },
  {
   "cell_type": "code",
   "execution_count": 4,
   "metadata": {},
   "outputs": [
    {
     "name": "stdout",
     "output_type": "stream",
     "text": [
      "[1, 2, 3, 4]\n"
     ]
    }
   ],
   "source": [
    "a=[1,2]\n",
    "b=[3,4]\n",
    "print(a+b)"
   ]
  },
  {
   "cell_type": "code",
   "execution_count": null,
   "metadata": {},
   "outputs": [],
   "source": []
  }
 ],
 "metadata": {
  "kernelspec": {
   "display_name": "Python 3",
   "language": "python",
   "name": "python3"
  },
  "language_info": {
   "codemirror_mode": {
    "name": "ipython",
    "version": 3
   },
   "file_extension": ".py",
   "mimetype": "text/x-python",
   "name": "python",
   "nbconvert_exporter": "python",
   "pygments_lexer": "ipython3",
   "version": "3.6.5"
  }
 },
 "nbformat": 4,
 "nbformat_minor": 2
}
